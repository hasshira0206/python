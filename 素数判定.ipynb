{
  "nbformat": 4,
  "nbformat_minor": 0,
  "metadata": {
    "colab": {
      "name": "素数判定.ipynb",
      "provenance": [],
      "authorship_tag": "ABX9TyNQrchSGKOhhZgr1bV7EzkM",
      "include_colab_link": true
    },
    "kernelspec": {
      "name": "python3",
      "display_name": "Python 3"
    },
    "language_info": {
      "name": "python"
    }
  },
  "cells": [
    {
      "cell_type": "markdown",
      "metadata": {
        "id": "view-in-github",
        "colab_type": "text"
      },
      "source": [
        "<a href=\"https://colab.research.google.com/github/hasshira0206/python/blob/main/%E7%B4%A0%E6%95%B0%E5%88%A4%E5%AE%9A.ipynb\" target=\"_parent\"><img src=\"https://colab.research.google.com/assets/colab-badge.svg\" alt=\"Open In Colab\"/></a>"
      ]
    },
    {
      "cell_type": "code",
      "metadata": {
        "id": "P5sXWx5ic4Gw",
        "colab": {
          "base_uri": "https://localhost:8080/"
        },
        "outputId": "e0381509-6cf7-4aac-8b86-0d6a894cedaa"
      },
      "source": [
        "num=int(input())\n",
        "x,y=num//2,0\n",
        "li=range(x-1)\n",
        "for i in range(x-1):\n",
        "    if num % (i+2)!=0:\n",
        "        y+=1\n",
        "if len(li)==y:\n",
        "    print(\"素数\")\n",
        "else:\n",
        "    print(\"素数じゃないよ\")"
      ],
      "execution_count": 19,
      "outputs": [
        {
          "output_type": "stream",
          "name": "stdout",
          "text": [
            "24\n",
            "素数じゃないよ\n"
          ]
        }
      ]
    }
  ]
}