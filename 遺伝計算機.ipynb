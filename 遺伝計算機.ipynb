{
  "nbformat": 4,
  "nbformat_minor": 0,
  "metadata": {
    "colab": {
      "name": "遺伝計算機.ipynb",
      "provenance": [],
      "authorship_tag": "ABX9TyMCxgdg+DoWeiO88inpJTY1",
      "include_colab_link": true
    },
    "kernelspec": {
      "name": "python3",
      "display_name": "Python 3"
    },
    "language_info": {
      "name": "python"
    }
  },
  "cells": [
    {
      "cell_type": "markdown",
      "metadata": {
        "id": "view-in-github",
        "colab_type": "text"
      },
      "source": [
        "<a href=\"https://colab.research.google.com/github/hasshira0206/python/blob/main/%E9%81%BA%E4%BC%9D%E8%A8%88%E7%AE%97%E6%A9%9F.ipynb\" target=\"_parent\"><img src=\"https://colab.research.google.com/assets/colab-badge.svg\" alt=\"Open In Colab\"/></a>"
      ]
    },
    {
      "cell_type": "code",
      "metadata": {
        "id": "ck5O7PUIZ4hl"
      },
      "source": [
        "#@title エンドウの対立形質計算君 { display-mode: \"form\" }\n",
        "import itertools\n",
        "print(\"\"\"\n",
        "ーーーーーーーーーーーーー\n",
        "エンドウの対立形質計算君\n",
        "ーーーーーーーーーーーーー\n",
        "【使い方】\n",
        "自分が欲しい遺伝子を持ったエンドウが生まれる確率を求めます。。\n",
        "※「生まれてくる形質」ではなく、持っている「遺伝子」のことをいいます。いいます。\n",
        "【補足】\n",
        "・丸い種子･･･A                  /シワの種子･･･a\n",
        "・黄色の種子･･･B                /緑の種子･･･b\n",
        "・紫の花･･･C                   /花が白･･･c\n",
        "・さやが膨れている･･･D           /さやがくびれている･･･d\n",
        "・さやが緑･･･E                 /さやが黄色･･･e\n",
        "・花とさやが茎に沿っている･･･F    /花とさやが黄色･･･f\n",
        "・普通の草丈･･･G                /丈が低い･･･g\n",
        "【注意】\n",
        "・入力はこのようにしてください。例）abcdfgabcdefg\n",
        "・対立形質を増やしたい場合･･･23〜23〜29行の配列を消したり、増やしたりしてください。その後、30行目のの(a,b,c...)の中に変数を増やしたりしてください。\n",
        "\"\"\")\n",
        "txt=list(input(\"あなたの欲しい形質は？いいえお金は一銭もいただきません。\"))\n",
        "txt.sort()\n",
        "a=['A',\"a\"]\n",
        "b=['B',\"b\"]\n",
        "c=[\"C\",\"c\"]\n",
        "d=[\"D\",\"d\"]\n",
        "e=[\"E\",\"e\"]\n",
        "f=[\"F\",\"f\"]\n",
        "g=[\"G\",\"g\"]\n",
        "t=list(itertools.product(a,b,c,d,e,f,g))\n",
        "child=list(itertools.product(t,t))\n",
        "x=0\n",
        "for c in child:\n",
        "    c=list(itertools.chain.from_iterable(c))\n",
        "    c.sort()\n",
        "    if c == txt:\n",
        "        x+=1\n",
        "print(f\"結果は[{x/len(child)*100}]％です\")"
      ],
      "execution_count": null,
      "outputs": []
    }
  ]
}