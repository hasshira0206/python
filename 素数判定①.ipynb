{
  "nbformat": 4,
  "nbformat_minor": 0,
  "metadata": {
    "colab": {
      "name": "素数判定①.ipynb",
      "provenance": [],
      "authorship_tag": "ABX9TyPLR+6F1+JQpYKoF5magNSB",
      "include_colab_link": true
    },
    "kernelspec": {
      "name": "python3",
      "display_name": "Python 3"
    },
    "language_info": {
      "name": "python"
    }
  },
  "cells": [
    {
      "cell_type": "markdown",
      "metadata": {
        "id": "view-in-github",
        "colab_type": "text"
      },
      "source": [
        "<a href=\"https://colab.research.google.com/github/hasshira0206/python/blob/main/%E7%B4%A0%E6%95%B0%E5%88%A4%E5%AE%9A%E2%91%A0.ipynb\" target=\"_parent\"><img src=\"https://colab.research.google.com/assets/colab-badge.svg\" alt=\"Open In Colab\"/></a>"
      ]
    },
    {
      "cell_type": "code",
      "metadata": {
        "colab": {
          "base_uri": "https://localhost:8080/"
        },
        "id": "OWdsqx7gu3WH",
        "outputId": "2710b9fc-eab9-421b-c315-120d6129243c"
      },
      "source": [
        "x=int(input(\"数値を入力\"))\n",
        "y,n,li=x//2,0,[]\n",
        "if x==1 or x==2:\n",
        "    print(\"素数ではない\")\n",
        "else:\n",
        "    for i in range(y):\n",
        "        n+=1\n",
        "        if x%n!=0:\n",
        "            li.append(n)\n",
        "    if len(li)!=y:\n",
        "        print(\"素数ではない\")\n",
        "    elif len(li)==y:\n",
        "        print(\"素数である。またはエラー\")"
      ],
      "execution_count": 63,
      "outputs": [
        {
          "output_type": "stream",
          "name": "stdout",
          "text": [
            "数値を入力1888883\n",
            "素数ではない\n"
          ]
        }
      ]
    }
  ]
}