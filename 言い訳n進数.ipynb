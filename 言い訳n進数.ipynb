{
  "nbformat": 4,
  "nbformat_minor": 0,
  "metadata": {
    "colab": {
      "name": "言い訳n進数.ipynb",
      "provenance": [],
      "collapsed_sections": [],
      "authorship_tag": "ABX9TyNBMm3MrU/PUbSIqK2GvXEw",
      "include_colab_link": true
    },
    "kernelspec": {
      "name": "python3",
      "display_name": "Python 3"
    },
    "language_info": {
      "name": "python"
    }
  },
  "cells": [
    {
      "cell_type": "markdown",
      "metadata": {
        "id": "view-in-github",
        "colab_type": "text"
      },
      "source": [
        "<a href=\"https://colab.research.google.com/github/hasshira0206/python/blob/main/%E8%A8%80%E3%81%84%E8%A8%B3n%E9%80%B2%E6%95%B0.ipynb\" target=\"_parent\"><img src=\"https://colab.research.google.com/assets/colab-badge.svg\" alt=\"Open In Colab\"/></a>"
      ]
    },
    {
      "cell_type": "code",
      "metadata": {
        "colab": {
          "base_uri": "https://localhost:8080/"
        },
        "id": "RHxV5vKn7n4B",
        "outputId": "5b7a4407-38df-4d9a-d4ec-cfcb91743454"
      },
      "source": [
        "def base10int(value, base):\n",
        "    if (int(value / base)):\n",
        "        return base10int(int(value / base), base) + str(value % base)\n",
        "    return str(value % base)\n",
        "x=int(input(\"数値を入力\"))\n",
        "y=int(input(\"目標値を入力\"))\n",
        "n=0\n",
        "for i in range(8):\n",
        "    i+=2\n",
        "    z=(base10int(x, i))\n",
        "    z,y=str(z),str(y)\n",
        "    if z==y:\n",
        "        print(f\"{i}進数ですね\")\n",
        "        n=1\n",
        "if n==0:\n",
        "    print (\"言い訳できません。\")"
      ],
      "execution_count": null,
      "outputs": [
        {
          "name": "stdout",
          "output_type": "stream",
          "text": [
            "数値を入力39\n"
          ]
        }
      ]
    }
  ]
}