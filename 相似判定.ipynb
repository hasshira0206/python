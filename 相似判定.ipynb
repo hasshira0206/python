{
  "nbformat": 4,
  "nbformat_minor": 0,
  "metadata": {
    "colab": {
      "name": "相似判定.ipynb",
      "provenance": [],
      "authorship_tag": "ABX9TyPCCV0krOx64nL6xu4zkwTt",
      "include_colab_link": true
    },
    "kernelspec": {
      "name": "python3",
      "display_name": "Python 3"
    },
    "language_info": {
      "name": "python"
    }
  },
  "cells": [
    {
      "cell_type": "markdown",
      "metadata": {
        "id": "view-in-github",
        "colab_type": "text"
      },
      "source": [
        "<a href=\"https://colab.research.google.com/github/hasshira0206/python/blob/main/%E7%9B%B8%E4%BC%BC%E5%88%A4%E5%AE%9A.ipynb\" target=\"_parent\"><img src=\"https://colab.research.google.com/assets/colab-badge.svg\" alt=\"Open In Colab\"/></a>"
      ]
    },
    {
      "cell_type": "code",
      "metadata": {
        "colab": {
          "base_uri": "https://localhost:8080/"
        },
        "id": "B5rfH1X3WiXk",
        "outputId": "96874ed9-cb97-45c4-ba4e-f4d8fe5dc498"
      },
      "source": [
        "A=float(input(\"三角形①の左辺①を入力：\"))\n",
        "B=float(input(\"三角形②の右辺①を入力：\"))\n",
        "C=float(input(\"三角形①の左辺②を入力：\"))\n",
        "D=float(input(\"三角形②の左辺②を入力：\"))\n",
        "E=float(input(\"三角形①の左辺③を入力：\"))\n",
        "F=float(input(\"三角形②の左辺③を入力：\"))\n",
        "def H(A,B):\n",
        "    C=1/A\n",
        "    print(f\"[{A*C}]：[{B*C}]\")\n",
        "A=H(A,B)\n",
        "B=H(C,D)\n",
        "C=H(E,F)\n",
        "if A==B==C:\n",
        "    print(\"相似\")"
      ],
      "execution_count": 13,
      "outputs": [
        {
          "output_type": "stream",
          "name": "stdout",
          "text": [
            "三角形①の左辺①を入力：0.5\n",
            "三角形②の右辺①を入力：1\n",
            "三角形①の左辺②を入力：1\n",
            "三角形②の左辺②を入力：2\n",
            "三角形①の左辺③を入力：2\n",
            "三角形②の左辺③を入力：4\n",
            "[1.0]：[2.0]\n",
            "[1.0]：[2.0]\n",
            "[1.0]：[2.0]\n",
            "相似\n"
          ]
        }
      ]
    }
  ]
}