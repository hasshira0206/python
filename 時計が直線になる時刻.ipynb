{
  "nbformat": 4,
  "nbformat_minor": 0,
  "metadata": {
    "colab": {
      "name": "短針長針直線.ipynb",
      "provenance": [],
      "authorship_tag": "ABX9TyO+ZVRi/mideS020S84dCP5",
      "include_colab_link": true
    },
    "kernelspec": {
      "name": "python3",
      "display_name": "Python 3"
    },
    "language_info": {
      "name": "python"
    }
  },
  "cells": [
    {
      "cell_type": "markdown",
      "metadata": {
        "id": "view-in-github",
        "colab_type": "text"
      },
      "source": [
        "<a href=\"https://colab.research.google.com/github/hasshira0206/python/blob/main/%E6%99%82%E8%A8%88%E3%81%8C%E7%9B%B4%E7%B7%9A%E3%81%AB%E3%81%AA%E3%82%8B%E6%99%82%E5%88%BB.ipynb\" target=\"_parent\"><img src=\"https://colab.research.google.com/assets/colab-badge.svg\" alt=\"Open In Colab\"/></a>"
      ]
    },
    {
      "cell_type": "code",
      "metadata": {
        "colab": {
          "base_uri": "https://localhost:8080/"
        },
        "id": "QaRoO6R5HbA4",
        "outputId": "bcff85dd-d1e4-4533-e525-489f62b92a7f"
      },
      "source": [
        "import sympy\n",
        "l=[]\n",
        "x = sympy.Symbol('x')\n",
        "y = sympy.Symbol('y')\n",
        "t = sympy.Symbol('t')\n",
        "t=0\n",
        "while t<=12:\n",
        "    if t>=6:\n",
        "        t-=1\n",
        "    expr1 = y-0.5*x-(30*t)\n",
        "    #print(expr1)\n",
        "    expr2 = y-6*x+180\n",
        "\n",
        "    #print(sympy.solve([expr1, expr2]))\n",
        "    n=sympy.solve([expr1,expr2])\n",
        "    n=n[x]\n",
        "    if n>59:\n",
        "        while True:\n",
        "            n-=60\n",
        "            t+=1\n",
        "            if n<60:\n",
        "                break\n",
        "    l.append(f\"時計の長針と短針が直線になる時刻は、{t}時{round(n)}分です\")\n",
        "    t+=1\n",
        "for l in l:\n",
        "    print(l)"
      ],
      "execution_count": null,
      "outputs": [
        {
          "output_type": "stream",
          "name": "stdout",
          "text": [
            "時計の長針と短針が直線になる時刻は、0時33分です\n",
            "時計の長針と短針が直線になる時刻は、1時38分です\n",
            "時計の長針と短針が直線になる時刻は、2時44分です\n",
            "時計の長針と短針が直線になる時刻は、3時49分です\n",
            "時計の長針と短針が直線になる時刻は、4時55分です\n",
            "時計の長針と短針が直線になる時刻は、6時0分です\n",
            "時計の長針と短針が直線になる時刻は、7時5分です\n",
            "時計の長針と短針が直線になる時刻は、8時11分です\n",
            "時計の長針と短針が直線になる時刻は、9時16分です\n",
            "時計の長針と短針が直線になる時刻は、10時22分です\n",
            "時計の長針と短針が直線になる時刻は、11時27分です\n",
            "時計の長針と短針が直線になる時刻は、12時33分です\n"
          ]
        }
      ]
    }
  ]
}