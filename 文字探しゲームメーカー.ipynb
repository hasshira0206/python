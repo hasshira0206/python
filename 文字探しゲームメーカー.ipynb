{
  "nbformat": 4,
  "nbformat_minor": 0,
  "metadata": {
    "colab": {
      "name": "文字探し遊戯.ipynb",
      "provenance": [],
      "collapsed_sections": [],
      "authorship_tag": "ABX9TyNlanAUjnj8attjnZf7Hvjd",
      "include_colab_link": true
    },
    "kernelspec": {
      "name": "python3",
      "display_name": "Python 3"
    },
    "language_info": {
      "name": "python"
    }
  },
  "cells": [
    {
      "cell_type": "markdown",
      "metadata": {
        "id": "view-in-github",
        "colab_type": "text"
      },
      "source": [
        "<a href=\"https://colab.research.google.com/github/hasshira0206/python/blob/main/%E6%96%87%E5%AD%97%E6%8E%A2%E3%81%97%E3%82%B2%E3%83%BC%E3%83%A0%E3%83%A1%E3%83%BC%E3%82%AB%E3%83%BC.ipynb\" target=\"_parent\"><img src=\"https://colab.research.google.com/assets/colab-badge.svg\" alt=\"Open In Colab\"/></a>"
      ]
    },
    {
      "cell_type": "code",
      "metadata": {
        "id": "mSI9TEgbd5hw",
        "colab": {
          "base_uri": "https://localhost:8080/"
        },
        "outputId": "977ec63e-c1df-452c-cd42-979eb2b29488"
      },
      "source": [
        "import random\n",
        "mt=\"{}\"\n",
        "size=int(input(\"大きさを入力（10〜30）\"))\n",
        "x=input(\"隠さない文字を入力\")\n",
        "y=input(\"隠したい文字を入力\")\n",
        "num=-1\n",
        "mt=mt*size\n",
        "mt=mt+\" \\n\"\n",
        "mt=mt*size\n",
        "li=[]\n",
        "ran=random.randint(0,size**2)\n",
        "print(ran)\n",
        "while num<size**2:\n",
        "  num+=1\n",
        "  if num!=ran:\n",
        "    li.append(x)\n",
        "  if num==ran:\n",
        "    li.append(y)\n",
        "print(mt.format(*li))"
      ],
      "execution_count": null,
      "outputs": [
        {
          "output_type": "stream",
          "name": "stdout",
          "text": [
            "大きさを入力（10〜30）20\n",
            "隠さない文字を入力状\n",
            "隠したい文字を入力元\n",
            "157\n",
            "状状状状状状状状状状状状状状状状状状状状 \n",
            "状状状状状状状状状状状状状状状状状状状状 \n",
            "状状状状状状状状状状状状状状状状状状状状 \n",
            "状状状状状状状状状状状状状状状状状状状状 \n",
            "状状状状状状状状状状状状状状状状状状状状 \n",
            "状状状状状状状状状状状状状状状状状状状状 \n",
            "状状状状状状状状状状状状状状状状状状状状 \n",
            "状状状状状状状状状状状状状状状状状元状状 \n",
            "状状状状状状状状状状状状状状状状状状状状 \n",
            "状状状状状状状状状状状状状状状状状状状状 \n",
            "状状状状状状状状状状状状状状状状状状状状 \n",
            "状状状状状状状状状状状状状状状状状状状状 \n",
            "状状状状状状状状状状状状状状状状状状状状 \n",
            "状状状状状状状状状状状状状状状状状状状状 \n",
            "状状状状状状状状状状状状状状状状状状状状 \n",
            "状状状状状状状状状状状状状状状状状状状状 \n",
            "状状状状状状状状状状状状状状状状状状状状 \n",
            "状状状状状状状状状状状状状状状状状状状状 \n",
            "状状状状状状状状状状状状状状状状状状状状 \n",
            "状状状状状状状状状状状状状状状状状状状状 \n",
            "\n"
          ]
        }
      ]
    }
  ]
}